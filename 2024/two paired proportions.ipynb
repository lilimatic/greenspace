{
 "cells": [
  {
   "cell_type": "code",
   "execution_count": 1,
   "metadata": {},
   "outputs": [],
   "source": [
    "import pandas as pd\n",
    "import os \n",
    "import numpy as np"
   ]
  },
  {
   "cell_type": "markdown",
   "metadata": {},
   "source": [
    "### Comparison with 2-paired t-tests"
   ]
  },
  {
   "cell_type": "code",
   "execution_count": 2,
   "metadata": {},
   "outputs": [],
   "source": [
    "import os \n",
    "\n",
    "\n",
    "from statsmodels.stats.proportion import proportions_ztest\n",
    "\n",
    "directory = f'/Users/lilimatic/greenspace'\n",
    "os.chdir(directory)\n",
    "\n",
    "from functions.data import df\n",
    "\n",
    "df1 = pd.read_csv('data.csv')"
   ]
  },
  {
   "cell_type": "code",
   "execution_count": 3,
   "metadata": {},
   "outputs": [],
   "source": [
    "#filter out relevant questions \n",
    "\n",
    "#Results to be compared \n",
    "qs = [\n",
    "    'Would you feel physically safe if there was monitoring of park or square usage that you could access through your phone?',\n",
    "      'Would you be interested in technology that would allow you to know how many people are in a specific place you would like to go?'\n",
    "     ]\n",
    "\n",
    "qs_new = [\n",
    "          '7. Would you feel physically secure knowing that park or square usage is being monitored and accessible through your phone?',\n",
    "       '8. Would you be interested in technology that enables  you to track how many people are in specific open greenspace at any point in time?']\n",
    "\n",
    "#Quesitons \n",
    "old = df[qs]\n",
    "new = df1[qs_new]"
   ]
  },
  {
   "cell_type": "code",
   "execution_count": 4,
   "metadata": {},
   "outputs": [
    {
     "data": {
      "text/plain": [
       "264"
      ]
     },
     "execution_count": 4,
     "metadata": {},
     "output_type": "execute_result"
    }
   ],
   "source": [
    "len(new[new['7. Would you feel physically secure knowing that park or square usage is being monitored and accessible through your phone?'] == 'Yes'])"
   ]
  },
  {
   "cell_type": "code",
   "execution_count": 28,
   "metadata": {},
   "outputs": [
    {
     "name": "stdout",
     "output_type": "stream",
     "text": [
      "\n",
      "Would you feel physically safe if there was monitoring of park or square usage that you could access through your phone? vs 7. Would you feel physically secure knowing that park or square usage is being monitored and accessible through your phone?\n",
      "[217, 264]\n",
      "[0.54, 0.59]\n",
      "Standard error\n",
      "[0.0249, 0.0232]\n",
      "[-1.26, 0.8959824222277055]\n",
      "\n",
      "SE\n",
      "0.034047901790148216\n",
      "\n",
      "Would you be interested in technology that would allow you to know how many people are in a specific place you would like to go? vs 8. Would you be interested in technology that enables  you to track how many people are in specific open greenspace at any point in time?\n",
      "[257, 239]\n",
      "[0.64, 0.53]\n",
      "Standard error\n",
      "[0.024, 0.0235]\n",
      "[3.32, 0.00044397022844426906]\n",
      "\n",
      "SE\n",
      "0.03386662883809592\n"
     ]
    }
   ],
   "source": [
    "for a,b in zip(qs,qs_new):\n",
    "    print()\n",
    "    print(a + ' vs '+ b)\n",
    "    num1 = len(old[old[a]=='Yes'])\n",
    "    num2 = len(new[new[b]=='Yes'])\n",
    "    print([num1,num2])\n",
    "    p1 = num1/len(old)\n",
    "    p2 = num2/len(new)\n",
    "    sd1 = np.sqrt(p1*(1-p1)/len(old))\n",
    "    sd2 = np.sqrt(p2*(1-p2)/len(new))\n",
    "    print([round(p1,2),round(p2,2)])\n",
    "    print('Standard error')\n",
    "    print([round(sd1,4),round(sd2,4)])\n",
    "    zstat, pval = proportions_ztest([num1,num2],[len(old),len(new)],alternative='larger')\n",
    "    print([round(zstat,2),pval])\n",
    "    print()\n",
    "    print('SE')\n",
    "    p_hat = (num1+num2)/(len(old)+len(new))\n",
    "    SE = np.sqrt(p_hat*(1-p_hat)*(1/len(old) + 1/len(new)))\n",
    "    print(SE)\n",
    "    \n"
   ]
  },
  {
   "cell_type": "markdown",
   "metadata": {},
   "source": [
    "\n",
    "\\begin{equation}\n",
    "\\hat{p}^*=\\frac{x_1+x_2}{n_1+n_2}\n",
    "\\end{equation}\n",
    "\n",
    "\\begin{equation}\n",
    "z^*=\\frac{\\left(\\hat{p}_1-\\hat{p}_2\\right)-0}{\\sqrt{\\hat{p}^*\\left(1-\\hat{p}^*\\right)\\left(\\frac{1}{n_1}+\\frac{1}{n_2}\\right)}}\n",
    "\\end{equation}"
   ]
  },
  {
   "cell_type": "code",
   "execution_count": null,
   "metadata": {},
   "outputs": [],
   "source": [
    "SE ="
   ]
  },
  {
   "cell_type": "code",
   "execution_count": null,
   "metadata": {},
   "outputs": [],
   "source": []
  }
 ],
 "metadata": {
  "kernelspec": {
   "display_name": "Python 3",
   "language": "python",
   "name": "python3"
  },
  "language_info": {
   "codemirror_mode": {
    "name": "ipython",
    "version": 3
   },
   "file_extension": ".py",
   "mimetype": "text/x-python",
   "name": "python",
   "nbconvert_exporter": "python",
   "pygments_lexer": "ipython3",
   "version": "3.8.5"
  }
 },
 "nbformat": 4,
 "nbformat_minor": 4
}
