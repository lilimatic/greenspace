{
 "cells": [
  {
   "cell_type": "code",
   "execution_count": 1,
   "metadata": {},
   "outputs": [],
   "source": [
    "import pandas as pd\n",
    "import numpy as np\n",
    "\n",
    "from scipy.stats import chi2_contingency\n",
    "import os "
   ]
  },
  {
   "cell_type": "code",
   "execution_count": 2,
   "metadata": {},
   "outputs": [],
   "source": [
    "directory = f'/Users/lilimatic/greenspace'\n",
    "os.chdir(directory)"
   ]
  },
  {
   "cell_type": "code",
   "execution_count": 3,
   "metadata": {},
   "outputs": [],
   "source": [
    "df = pd.read_csv('data.csv')\n",
    "\n",
    "df = df.drop(df.columns[0],axis=1)"
   ]
  },
  {
   "cell_type": "code",
   "execution_count": 4,
   "metadata": {},
   "outputs": [
    {
     "data": {
      "text/plain": [
       "Index(['1. Gender', '2. Age',\n",
       "       '3. Municipality in which you visit parks or squares after the pandemic : ',\n",
       "       '4. Has the COVID-19 pandemic modified your usage of open greenspaces? ',\n",
       "       '5. Do you generally feel safe when you visit parks or squares ?',\n",
       "       '6. Did the COVID-19 pandemic influence your safety perception in parks or squares?',\n",
       "       '7. Would you feel physically secure knowing that park or square usage is being monitored and accessible through your phone?',\n",
       "       '8. Would you be interested in technology that enables  you to track how many people are in specific open greenspace at any point in time?',\n",
       "       '9. What particular safety concerns bother you?'],\n",
       "      dtype='object')"
      ]
     },
     "execution_count": 4,
     "metadata": {},
     "output_type": "execute_result"
    }
   ],
   "source": [
    "df.columns"
   ]
  },
  {
   "cell_type": "code",
   "execution_count": 5,
   "metadata": {},
   "outputs": [],
   "source": [
    "df.columns = ['gender','age','municipality','postcovid','gensafe','postcovid safety', 'physical app satefy', 'interest','safety change']"
   ]
  },
  {
   "cell_type": "markdown",
   "metadata": {},
   "source": [
    "## Chisq-Independence tests \n",
    "\n",
    "\n",
    "The Chisq-Test indicates that the type of safety concern is gender-dependent (p < 5 %). "
   ]
  },
  {
   "cell_type": "markdown",
   "metadata": {},
   "source": [
    "### 9. What particular safety concerns bother you? vs Gender, Interst in app and Physical Safety"
   ]
  },
  {
   "cell_type": "code",
   "execution_count": 6,
   "metadata": {},
   "outputs": [
    {
     "name": "stdout",
     "output_type": "stream",
     "text": [
      "\n",
      "gender vs safety concern\n",
      "\n",
      "[25.1, 6, 0.0003]\n",
      "0.03\n",
      "\n",
      "interest vs safety concern\n",
      "\n",
      "[14.03, 3, 0.0029]\n",
      "0.29\n",
      "\n",
      "physical app satefy vs safety concern\n",
      "\n",
      "[10.82, 3, 0.0127]\n",
      "1.27\n"
     ]
    }
   ],
   "source": [
    "for t in ['gender','interest','physical app satefy']:\n",
    "    print()\n",
    "    print(t + ' vs safety concern')\n",
    "    print()\n",
    "    contingency = pd.crosstab(df[t],df['safety change']) \n",
    "    #contingency1 = pd.concat([contingency,round(pd.crosstab(df[t],df['safety change'],normalize='all',margins=True)*100,2)],axis=1)\n",
    "    #contingency1.to_excel('2024/tables/'+t + 'vs safety concern.xlsx', engine='xlsxwriter') \n",
    "    c, p, dof, expected = chi2_contingency(contingency)\n",
    "    print([round(c,2), dof, round(chi2_contingency(contingency).pvalue,4)])\n",
    "    print(round(chi2_contingency(contingency).pvalue*100,2))\n",
    "    \n",
    "    \n"
   ]
  },
  {
   "cell_type": "markdown",
   "metadata": {},
   "source": [
    "### '1. Gender' vs. all other "
   ]
  },
  {
   "cell_type": "code",
   "execution_count": 16,
   "metadata": {},
   "outputs": [
    {
     "name": "stdout",
     "output_type": "stream",
     "text": [
      "\n",
      "postcovid vs gender\n",
      "\n",
      "\n",
      "gensafe vs gender\n",
      "\n",
      "\n",
      "postcovid safety vs gender\n",
      "\n",
      "\n",
      "physical app satefy vs gender\n",
      "\n",
      "\n",
      "interest vs gender\n",
      "\n",
      "\n",
      "safety change vs gender\n",
      "\n"
     ]
    }
   ],
   "source": [
    "cont = []\n",
    "\n",
    "\n",
    "for t in ['postcovid','gensafe','postcovid safety', 'physical app satefy', 'interest','safety change']:\n",
    "    print()\n",
    "    print(t + ' vs gender')\n",
    "    print()\n",
    "    contingency = pd.crosstab(df[t],df['gender'],margins = True) \n",
    "    contingency1 = pd.concat([contingency,round(pd.crosstab(df[t],df['gender'],normalize='all',margins=True)*100,2)],axis=1)\n",
    "    #contingency1.to_excel('2024/tables/gender/'+t + ' vs gender.xlsx', engine='xlsxwriter') \n",
    "    cont.append(contingency1)\n",
    "    #contigency1.concat([contingency1])\n",
    "    #c, p, dof, expected = chi2_contingency(contingency)\n",
    "    #print([round(c,2), dof, round(chi2_contingency(contingency).pvalue,4)])\n",
    "    #print(round(chi2_contingency(contingency).pvalue*100,2))\n",
    "    \n",
    "cont_big = pd.concat(cont,axis=0)\n",
    "cont_big.to_excel('2024/tables/gender/big table.xlsx', engine='xlsxwriter') "
   ]
  }
 ],
 "metadata": {
  "kernelspec": {
   "display_name": "Python 3",
   "language": "python",
   "name": "python3"
  },
  "language_info": {
   "codemirror_mode": {
    "name": "ipython",
    "version": 3
   },
   "file_extension": ".py",
   "mimetype": "text/x-python",
   "name": "python",
   "nbconvert_exporter": "python",
   "pygments_lexer": "ipython3",
   "version": "3.8.5"
  }
 },
 "nbformat": 4,
 "nbformat_minor": 4
}
