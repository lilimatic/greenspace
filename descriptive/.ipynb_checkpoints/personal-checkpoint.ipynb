{
 "cells": [
  {
   "cell_type": "code",
   "execution_count": 1,
   "metadata": {},
   "outputs": [],
   "source": [
    "import pandas as pd\n",
    "import numpy as np\n",
    "import matplotlib.pyplot as plt\n",
    "import matplotlib.cm as cm\n",
    "import os"
   ]
  },
  {
   "cell_type": "code",
   "execution_count": null,
   "metadata": {},
   "outputs": [],
   "source": [
    "directory = f'/Users/lilimatic/greenspace'\n",
    "os.chdir(directory)"
   ]
  },
  {
   "cell_type": "code",
   "execution_count": 2,
   "metadata": {},
   "outputs": [],
   "source": [
    "from functions.function import table_creator\n",
    "from functions.data import df"
   ]
  },
  {
   "cell_type": "code",
   "execution_count": null,
   "metadata": {},
   "outputs": [],
   "source": [
    "book = 'personal'"
   ]
  },
  {
   "cell_type": "markdown",
   "metadata": {},
   "source": [
    "## Gender and age of survey participants"
   ]
  },
  {
   "cell_type": "code",
   "execution_count": 5,
   "metadata": {},
   "outputs": [],
   "source": [
    "personal = ['Gender', 'Age ']\n"
   ]
  },
  {
   "cell_type": "code",
   "execution_count": 6,
   "metadata": {},
   "outputs": [
    {
     "name": "stdout",
     "output_type": "stream",
     "text": [
      "Gender\n"
     ]
    },
    {
     "data": {
      "text/html": [
       "<div>\n",
       "<style scoped>\n",
       "    .dataframe tbody tr th:only-of-type {\n",
       "        vertical-align: middle;\n",
       "    }\n",
       "\n",
       "    .dataframe tbody tr th {\n",
       "        vertical-align: top;\n",
       "    }\n",
       "\n",
       "    .dataframe thead th {\n",
       "        text-align: right;\n",
       "    }\n",
       "</style>\n",
       "<table border=\"1\" class=\"dataframe\">\n",
       "  <thead>\n",
       "    <tr style=\"text-align: right;\">\n",
       "      <th></th>\n",
       "      <th>count</th>\n",
       "      <th>%</th>\n",
       "    </tr>\n",
       "  </thead>\n",
       "  <tbody>\n",
       "    <tr>\n",
       "      <th>Female</th>\n",
       "      <td>273</td>\n",
       "      <td>67.2</td>\n",
       "    </tr>\n",
       "    <tr>\n",
       "      <th>Male</th>\n",
       "      <td>133</td>\n",
       "      <td>32.8</td>\n",
       "    </tr>\n",
       "  </tbody>\n",
       "</table>\n",
       "</div>"
      ],
      "text/plain": [
       "        count     %\n",
       "Female    273  67.2\n",
       "Male      133  32.8"
      ]
     },
     "metadata": {},
     "output_type": "display_data"
    },
    {
     "name": "stdout",
     "output_type": "stream",
     "text": [
      "Age \n"
     ]
    },
    {
     "data": {
      "text/html": [
       "<div>\n",
       "<style scoped>\n",
       "    .dataframe tbody tr th:only-of-type {\n",
       "        vertical-align: middle;\n",
       "    }\n",
       "\n",
       "    .dataframe tbody tr th {\n",
       "        vertical-align: top;\n",
       "    }\n",
       "\n",
       "    .dataframe thead th {\n",
       "        text-align: right;\n",
       "    }\n",
       "</style>\n",
       "<table border=\"1\" class=\"dataframe\">\n",
       "  <thead>\n",
       "    <tr style=\"text-align: right;\">\n",
       "      <th></th>\n",
       "      <th>count</th>\n",
       "      <th>%</th>\n",
       "    </tr>\n",
       "  </thead>\n",
       "  <tbody>\n",
       "    <tr>\n",
       "      <th>25-40</th>\n",
       "      <td>161</td>\n",
       "      <td>39.5</td>\n",
       "    </tr>\n",
       "    <tr>\n",
       "      <th>41-64</th>\n",
       "      <td>127</td>\n",
       "      <td>31.1</td>\n",
       "    </tr>\n",
       "    <tr>\n",
       "      <th>15-24</th>\n",
       "      <td>119</td>\n",
       "      <td>29.2</td>\n",
       "    </tr>\n",
       "    <tr>\n",
       "      <th>7-14</th>\n",
       "      <td>1</td>\n",
       "      <td>0.2</td>\n",
       "    </tr>\n",
       "  </tbody>\n",
       "</table>\n",
       "</div>"
      ],
      "text/plain": [
       "       count     %\n",
       "25-40    161  39.5\n",
       "41-64    127  31.1\n",
       "15-24    119  29.2\n",
       "7-14       1   0.2"
      ]
     },
     "metadata": {},
     "output_type": "display_data"
    }
   ],
   "source": [
    "for a in personal:\n",
    "    print(a)\n",
    "    table_creator(df,a,book)\n",
    "    display(table_creator(df,a,book))"
   ]
  },
  {
   "cell_type": "code",
   "execution_count": 7,
   "metadata": {},
   "outputs": [
    {
     "name": "stdout",
     "output_type": "stream",
     "text": [
      "The average respondent age is 34.88\n",
      "The average Female respondent age is 35.12\n",
      "The average Male respondent age is 34.6\n"
     ]
    }
   ],
   "source": [
    "#Computation of average \n",
    "vc = df['Age '].value_counts().to_frame(\"counts\").reset_index().rename(columns={\"index\": \"age\"})\n",
    "vc[\"mean\"] = [np.mean(list(map(int, x.split('-')))) for x in vc[\"age\"]]\n",
    "vc[\"weight\"] = vc[\"counts\"] / np.sum(vc[\"counts\"])\n",
    "print('The average respondent age is ' + str(round(np.sum(vc[\"mean\"] * vc[\"weight\"]),2)))\n",
    "\n",
    "#Average gender class mean \n",
    "\n",
    "gender = ['Female','Male']\n",
    "\n",
    "for x in gender:\n",
    "    vc = df[df['Gender'] ==  x]['Age '].value_counts().to_frame(\"counts\").reset_index().rename(columns={\"index\": \"age\"})\n",
    "    vc[\"mean\"] = [np.mean(list(map(int, x.split('-')))) for x in vc[\"age\"]]\n",
    "    vc[\"weight\"] = vc[\"counts\"] / np.sum(vc[\"counts\"])\n",
    "    print('The average ' +x + ' respondent age is ' + str(round(np.sum(vc[\"mean\"] * vc[\"weight\"]),2)))"
   ]
  },
  {
   "cell_type": "code",
   "execution_count": 8,
   "metadata": {},
   "outputs": [
    {
     "name": "stdout",
     "output_type": "stream",
     "text": [
      "\u001b[94m\u001b[1mGender\u001b[0m\n"
     ]
    },
    {
     "data": {
      "image/png": "[encoded data removed]",
      "text/plain": [
       "<Figure size 432x288 with 1 Axes>"
      ]
     },
     "metadata": {
      "needs_background": "light"
     },
     "output_type": "display_data"
    },
    {
     "name": "stdout",
     "output_type": "stream",
     "text": [
      "\u001b[94m\u001b[1mAge \u001b[0m\n"
     ]
    },
    {
     "data": {
      "image/png": "[encoded data removed]",
      "text/plain": [
       "<Figure size 432x288 with 1 Axes>"
      ]
     },
     "metadata": {
      "needs_background": "light"
     },
     "output_type": "display_data"
    }
   ],
   "source": [
    "for x in personal:\n",
    "    print('\\033[94m' + '\\033[1m' + x+ '\\033[0m')\n",
    "    fig = plt.figure()\n",
    "    ax = df[x].value_counts(ascending=True,normalize=True).mul(100).round(1).plot(kind='bar',title=x)\n",
    "    #np.round(df[x].value_counts(ascending=True,normalize=True)*100,2).to_csv('descriptive/demographic/'+x+'_relative.csv')\n",
    "    #df[x].value_counts(ascending=True).to_csv('descriptive/demographic/'+x+'_absolute.csv')\n",
    "    my_cmap = cm.get_cmap('jet')\n",
    "    ax.set_xlabel(x)\n",
    "    ax.set_ylabel('Frequency in percentage (%)')\n",
    "    plt.xticks(rotation=360)\n",
    "    plt.show()\n",
    "    fig.savefig('images/personal/' + x +'.png')"
   ]
  },
  {
   "cell_type": "code",
   "execution_count": null,
   "metadata": {},
   "outputs": [],
   "source": []
  }
 ],
 "metadata": {
  "kernelspec": {
   "display_name": "Python 3",
   "language": "python",
   "name": "python3"
  },
  "language_info": {
   "codemirror_mode": {
    "name": "ipython",
    "version": 3
   },
   "file_extension": ".py",
   "mimetype": "text/x-python",
   "name": "python",
   "nbconvert_exporter": "python",
   "pygments_lexer": "ipython3",
   "version": "3.8.5"
  }
 },
 "nbformat": 4,
 "nbformat_minor": 4
}
